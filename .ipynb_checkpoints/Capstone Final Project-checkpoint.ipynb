{
 "cells": [
  {
   "cell_type": "markdown",
   "metadata": {},
   "source": [
    "# Notebook for Capstone Final Project."
   ]
  },
  {
   "cell_type": "markdown",
   "metadata": {},
   "source": [
    "### Importing libs and datasets."
   ]
  },
  {
   "cell_type": "code",
   "execution_count": 1,
   "metadata": {},
   "outputs": [],
   "source": [
    "import numpy as np\n",
    "import pandas as pd\n",
    "from geopy.geocoders import Nominatim \n",
    "from geopy.point import Point\n",
    "import requests\n",
    "import folium\n",
    "from random import randint"
   ]
  },
  {
   "cell_type": "code",
   "execution_count": 2,
   "metadata": {},
   "outputs": [
    {
     "data": {
      "text/html": [
       "<div>\n",
       "<style scoped>\n",
       "    .dataframe tbody tr th:only-of-type {\n",
       "        vertical-align: middle;\n",
       "    }\n",
       "\n",
       "    .dataframe tbody tr th {\n",
       "        vertical-align: top;\n",
       "    }\n",
       "\n",
       "    .dataframe thead th {\n",
       "        text-align: right;\n",
       "    }\n",
       "</style>\n",
       "<table border=\"1\" class=\"dataframe\">\n",
       "  <thead>\n",
       "    <tr style=\"text-align: right;\">\n",
       "      <th></th>\n",
       "      <th>City</th>\n",
       "      <th>Population</th>\n",
       "      <th>Russian</th>\n",
       "    </tr>\n",
       "    <tr>\n",
       "      <th>Number</th>\n",
       "      <th></th>\n",
       "      <th></th>\n",
       "      <th></th>\n",
       "    </tr>\n",
       "  </thead>\n",
       "  <tbody>\n",
       "    <tr>\n",
       "      <th>1</th>\n",
       "      <td>Moscow</td>\n",
       "      <td>12380664</td>\n",
       "      <td>Москва</td>\n",
       "    </tr>\n",
       "    <tr>\n",
       "      <th>2</th>\n",
       "      <td>Saint Petersburg</td>\n",
       "      <td>5281579</td>\n",
       "      <td>Санкт-Петербург</td>\n",
       "    </tr>\n",
       "    <tr>\n",
       "      <th>3</th>\n",
       "      <td>Novosibirsk</td>\n",
       "      <td>1602915</td>\n",
       "      <td>Новосибирск</td>\n",
       "    </tr>\n",
       "    <tr>\n",
       "      <th>4</th>\n",
       "      <td>Yekaterinburg</td>\n",
       "      <td>1455514</td>\n",
       "      <td>Екатеринбург</td>\n",
       "    </tr>\n",
       "    <tr>\n",
       "      <th>5</th>\n",
       "      <td>Nizhny Novgorod</td>\n",
       "      <td>1261666</td>\n",
       "      <td>Нижний Новгород</td>\n",
       "    </tr>\n",
       "  </tbody>\n",
       "</table>\n",
       "</div>"
      ],
      "text/plain": [
       "                    City  Population          Russian\n",
       "Number                                               \n",
       "1                 Moscow    12380664           Москва\n",
       "2       Saint Petersburg     5281579  Санкт-Петербург\n",
       "3            Novosibirsk     1602915      Новосибирск\n",
       "4          Yekaterinburg     1455514     Екатеринбург\n",
       "5        Nizhny Novgorod     1261666  Нижний Новгород"
      ]
     },
     "execution_count": 2,
     "metadata": {},
     "output_type": "execute_result"
    }
   ],
   "source": [
    "url = 'https://en.wikipedia.org/wiki/List_of_cities_and_towns_in_Russia_by_population'\n",
    "df_u = pd.read_html(url, header = 0)[-1].rename({'Rank (2017)' : 'Number', 'City/town' : 'City', 'Population(2017 estimate)[1][2]' : 'Population'}, axis = 1).set_index('Number')\n",
    "df = df_u.loc[:, ['City', 'Population', 'Russian']]\n",
    "res_loc = pd.read_csv('ru.csv') # reserve location dataset, downloaded from https://simplemaps.com/data/ru-cities\n",
    "df.head()"
   ]
  },
  {
   "cell_type": "markdown",
   "metadata": {},
   "source": [
    "***\n",
    "*I chose dataset of russian cities because I'm from Russia (logical, right?). My mission is to make obvious which type of food establishment is the most popular in every Russian city (in truth, I will use only top 300 cities by population). That knowledge can give potential investors an understanding of which type of restaurant they should open, for example, or which city offers the best food of some cuisine (the more restaurants of the same type, the better this cuisine).*\n",
    "***"
   ]
  },
  {
   "cell_type": "markdown",
   "metadata": {},
   "source": [
    "***\n",
    "*Getting location data for every city. As a reserve dataset I am using .csv-file, because sometimes geolocator can't find right city.*\n",
    "***"
   ]
  },
  {
   "cell_type": "code",
   "execution_count": 3,
   "metadata": {},
   "outputs": [
    {
     "name": "stderr",
     "output_type": "stream",
     "text": [
      "C:\\Users\\knigo\\Anaconda3\\lib\\site-packages\\ipykernel_launcher.py:6: DeprecationWarning: Using Nominatim with the default \"geopy/1.20.0\" `user_agent` is strongly discouraged, as it violates Nominatim's ToS https://operations.osmfoundation.org/policies/nominatim/ and may possibly cause 403 and 429 HTTP errors. Please specify a custom `user_agent` with `Nominatim(user_agent=\"my-application\")` or by overriding the default `user_agent`: `geopy.geocoders.options.default_user_agent = \"my-application\"`. In geopy 2.0 this will become an exception.\n",
      "  \n"
     ]
    }
   ],
   "source": [
    "lat = []\n",
    "long = []\n",
    "for i in range(301):\n",
    "    address = df.City[i+1]\n",
    "    try:\n",
    "        geolocator = Nominatim(timeout = 2)\n",
    "        location = geolocator.geocode(address, country_codes = \"ru\")\n",
    "        lat.append(location.latitude)\n",
    "        long.append(location.longitude)\n",
    "    except:\n",
    "        lat.append(res_loc.loc[res_loc['city'] == address].lat[res_loc.loc[res_loc['city'] == address].lat.index[0]])\n",
    "        long.append(res_loc.loc[res_loc['city'] == address].lng[res_loc.loc[res_loc['city'] == address].lng.index[0]])      "
   ]
  },
  {
   "cell_type": "markdown",
   "metadata": {},
   "source": [
    "***\n",
    "*I'm dropping Salavat and Kurgan, because FourSquare API have problems with food category in this towns (and I can't find out the reason).*\n",
    "***"
   ]
  },
  {
   "cell_type": "code",
   "execution_count": 4,
   "metadata": {},
   "outputs": [
    {
     "data": {
      "text/html": [
       "<div>\n",
       "<style scoped>\n",
       "    .dataframe tbody tr th:only-of-type {\n",
       "        vertical-align: middle;\n",
       "    }\n",
       "\n",
       "    .dataframe tbody tr th {\n",
       "        vertical-align: top;\n",
       "    }\n",
       "\n",
       "    .dataframe thead th {\n",
       "        text-align: right;\n",
       "    }\n",
       "</style>\n",
       "<table border=\"1\" class=\"dataframe\">\n",
       "  <thead>\n",
       "    <tr style=\"text-align: right;\">\n",
       "      <th></th>\n",
       "      <th>City</th>\n",
       "      <th>Population</th>\n",
       "      <th>Russian</th>\n",
       "      <th>Latitude</th>\n",
       "      <th>Longitude</th>\n",
       "    </tr>\n",
       "  </thead>\n",
       "  <tbody>\n",
       "    <tr>\n",
       "      <th>0</th>\n",
       "      <td>Moscow</td>\n",
       "      <td>12380664</td>\n",
       "      <td>Москва</td>\n",
       "      <td>55.750446</td>\n",
       "      <td>37.617494</td>\n",
       "    </tr>\n",
       "    <tr>\n",
       "      <th>1</th>\n",
       "      <td>Saint Petersburg</td>\n",
       "      <td>5281579</td>\n",
       "      <td>Санкт-Петербург</td>\n",
       "      <td>59.938732</td>\n",
       "      <td>30.316229</td>\n",
       "    </tr>\n",
       "    <tr>\n",
       "      <th>2</th>\n",
       "      <td>Novosibirsk</td>\n",
       "      <td>1602915</td>\n",
       "      <td>Новосибирск</td>\n",
       "      <td>55.028217</td>\n",
       "      <td>82.923451</td>\n",
       "    </tr>\n",
       "    <tr>\n",
       "      <th>3</th>\n",
       "      <td>Yekaterinburg</td>\n",
       "      <td>1455514</td>\n",
       "      <td>Екатеринбург</td>\n",
       "      <td>56.839104</td>\n",
       "      <td>60.608250</td>\n",
       "    </tr>\n",
       "    <tr>\n",
       "      <th>4</th>\n",
       "      <td>Nizhny Novgorod</td>\n",
       "      <td>1261666</td>\n",
       "      <td>Нижний Новгород</td>\n",
       "      <td>56.328571</td>\n",
       "      <td>44.003506</td>\n",
       "    </tr>\n",
       "    <tr>\n",
       "      <th>5</th>\n",
       "      <td>Kazan</td>\n",
       "      <td>1231878</td>\n",
       "      <td>Казань</td>\n",
       "      <td>55.782355</td>\n",
       "      <td>49.124227</td>\n",
       "    </tr>\n",
       "    <tr>\n",
       "      <th>6</th>\n",
       "      <td>Chelyabinsk</td>\n",
       "      <td>1198858</td>\n",
       "      <td>Челябинск</td>\n",
       "      <td>55.159841</td>\n",
       "      <td>61.402555</td>\n",
       "    </tr>\n",
       "    <tr>\n",
       "      <th>7</th>\n",
       "      <td>Omsk</td>\n",
       "      <td>1178391</td>\n",
       "      <td>Омск</td>\n",
       "      <td>54.991375</td>\n",
       "      <td>73.371529</td>\n",
       "    </tr>\n",
       "    <tr>\n",
       "      <th>8</th>\n",
       "      <td>Samara</td>\n",
       "      <td>1169719</td>\n",
       "      <td>Самара</td>\n",
       "      <td>53.198627</td>\n",
       "      <td>50.113987</td>\n",
       "    </tr>\n",
       "    <tr>\n",
       "      <th>9</th>\n",
       "      <td>Rostov-on-Don</td>\n",
       "      <td>1125299</td>\n",
       "      <td>Ростов-на-Дону</td>\n",
       "      <td>47.221386</td>\n",
       "      <td>39.711420</td>\n",
       "    </tr>\n",
       "  </tbody>\n",
       "</table>\n",
       "</div>"
      ],
      "text/plain": [
       "               City  Population          Russian   Latitude  Longitude\n",
       "0            Moscow    12380664           Москва  55.750446  37.617494\n",
       "1  Saint Petersburg     5281579  Санкт-Петербург  59.938732  30.316229\n",
       "2       Novosibirsk     1602915      Новосибирск  55.028217  82.923451\n",
       "3     Yekaterinburg     1455514     Екатеринбург  56.839104  60.608250\n",
       "4   Nizhny Novgorod     1261666  Нижний Новгород  56.328571  44.003506\n",
       "5             Kazan     1231878           Казань  55.782355  49.124227\n",
       "6       Chelyabinsk     1198858        Челябинск  55.159841  61.402555\n",
       "7              Omsk     1178391             Омск  54.991375  73.371529\n",
       "8            Samara     1169719           Самара  53.198627  50.113987\n",
       "9     Rostov-on-Don     1125299   Ростов-на-Дону  47.221386  39.711420"
      ]
     },
     "execution_count": 4,
     "metadata": {},
     "output_type": "execute_result"
    }
   ],
   "source": [
    "df = df.iloc[0:301]\n",
    "df['Latitude'] = lat\n",
    "df['Longitude'] = long\n",
    "df.drop(index = df[df['City'] == 'Kurgan'].index.values[0], inplace = True)\n",
    "df.drop(index = df[df['City'] == 'Salavat'].index.values[0], inplace = True)\n",
    "df.reset_index(drop = True, inplace = True)\n",
    "df.head(10)"
   ]
  },
  {
   "cell_type": "code",
   "execution_count": 5,
   "metadata": {},
   "outputs": [],
   "source": [
    "CLIENT_ID = 'KSSTY3BOSMGYCAXZUT5VBR1I2OYL51FZTEIYRFMU5ILFEZ2H' # your Foursquare ID\n",
    "CLIENT_SECRET = '5GPSTEMZHJLABL4FTNX15L2SUXAZZPXHEOQAQEMRIDTPOXG4' # your Foursquare Secret\n",
    "VERSION = '20180605' # Foursquare API version"
   ]
  },
  {
   "cell_type": "code",
   "execution_count": 6,
   "metadata": {},
   "outputs": [
    {
     "name": "stdout",
     "output_type": "stream",
     "text": [
      "Method to get type from the given row.\n"
     ]
    }
   ],
   "source": [
    "print('Method to get type from the given row.')\n",
    "def get_category_type(row):\n",
    "    try:\n",
    "        categories_list = row['categories']\n",
    "    except:\n",
    "        categories_list = row['venue.categories']\n",
    "        \n",
    "    if len(categories_list) == 0:\n",
    "        return None\n",
    "    else:\n",
    "        return categories_list[0]['name']\n",
    "from pandas.io.json import json_normalize"
   ]
  },
  {
   "cell_type": "markdown",
   "metadata": {},
   "source": [
    "***\n",
    "*Code for FourSquare Data extracting. Checked lower cases of city names, because sometimes they have one upper case, some upper cases or all lower cases. That's just a precaution.  \n",
    "Dataset with city name as index and top 3 types of food establishments is a result.*\n",
    "***"
   ]
  },
  {
   "cell_type": "code",
   "execution_count": 7,
   "metadata": {},
   "outputs": [
    {
     "ename": "KeyError",
     "evalue": "'groups'",
     "output_type": "error",
     "traceback": [
      "\u001b[1;31m---------------------------------------------------------------------------\u001b[0m",
      "\u001b[1;31mKeyError\u001b[0m                                  Traceback (most recent call last)",
      "\u001b[1;32m<ipython-input-7-089aed8218d5>\u001b[0m in \u001b[0;36m<module>\u001b[1;34m()\u001b[0m\n\u001b[0;32m     10\u001b[0m     \u001b[0murl\u001b[0m \u001b[1;33m=\u001b[0m \u001b[1;34m'https://api.foursquare.com/v2/venues/explore?&client_id={}&client_secret={}&v={}&ll={},{}&query={}&radius={}&limit={}'\u001b[0m\u001b[1;33m.\u001b[0m\u001b[0mformat\u001b[0m\u001b[1;33m(\u001b[0m\u001b[0mCLIENT_ID\u001b[0m\u001b[1;33m,\u001b[0m\u001b[0mCLIENT_SECRET\u001b[0m\u001b[1;33m,\u001b[0m\u001b[0mVERSION\u001b[0m\u001b[1;33m,\u001b[0m\u001b[0mlatitude\u001b[0m\u001b[1;33m,\u001b[0m\u001b[0mlongitude\u001b[0m\u001b[1;33m,\u001b[0m\u001b[0msearch_query\u001b[0m\u001b[1;33m,\u001b[0m\u001b[0mradius\u001b[0m\u001b[1;33m,\u001b[0m\u001b[0mlimit\u001b[0m\u001b[1;33m)\u001b[0m\u001b[1;33m\u001b[0m\u001b[0m\n\u001b[0;32m     11\u001b[0m     \u001b[0mresults\u001b[0m \u001b[1;33m=\u001b[0m \u001b[0mrequests\u001b[0m\u001b[1;33m.\u001b[0m\u001b[0mget\u001b[0m\u001b[1;33m(\u001b[0m\u001b[0murl\u001b[0m\u001b[1;33m)\u001b[0m\u001b[1;33m.\u001b[0m\u001b[0mjson\u001b[0m\u001b[1;33m(\u001b[0m\u001b[1;33m)\u001b[0m\u001b[1;33m\u001b[0m\u001b[0m\n\u001b[1;32m---> 12\u001b[1;33m     \u001b[0mvenues\u001b[0m \u001b[1;33m=\u001b[0m \u001b[0mresults\u001b[0m\u001b[1;33m[\u001b[0m\u001b[1;34m'response'\u001b[0m\u001b[1;33m]\u001b[0m\u001b[1;33m[\u001b[0m\u001b[1;34m'groups'\u001b[0m\u001b[1;33m]\u001b[0m\u001b[1;33m[\u001b[0m\u001b[1;36m0\u001b[0m\u001b[1;33m]\u001b[0m\u001b[1;33m[\u001b[0m\u001b[1;34m'items'\u001b[0m\u001b[1;33m]\u001b[0m\u001b[1;33m\u001b[0m\u001b[0m\n\u001b[0m\u001b[0;32m     13\u001b[0m \u001b[1;33m\u001b[0m\u001b[0m\n\u001b[0;32m     14\u001b[0m     \u001b[0mnearby_venues\u001b[0m \u001b[1;33m=\u001b[0m \u001b[0mjson_normalize\u001b[0m\u001b[1;33m(\u001b[0m\u001b[0mvenues\u001b[0m\u001b[1;33m)\u001b[0m \u001b[1;31m# flatten JSON\u001b[0m\u001b[1;33m\u001b[0m\u001b[0m\n",
      "\u001b[1;31mKeyError\u001b[0m: 'groups'"
     ]
    }
   ],
   "source": [
    "food = {}\n",
    "for city in zip(df['Latitude'],df['Longitude'],df['City']):\n",
    "    #print(str(one_city))\n",
    "    city_low = str(city[2]).lower()\n",
    "    latitude = city[0]\n",
    "    longitude = city[1]\n",
    "    search_query = 'Food'\n",
    "    radius = 14500\n",
    "    limit = 200\n",
    "    url = 'https://api.foursquare.com/v2/venues/explore?&client_id={}&client_secret={}&v={}&ll={},{}&query={}&radius={}&limit={}'.format(CLIENT_ID,CLIENT_SECRET,VERSION,latitude,longitude,search_query,radius,limit)\n",
    "    results = requests.get(url).json()\n",
    "    venues = results['response']['groups'][0]['items']\n",
    "    \n",
    "    nearby_venues = json_normalize(venues) # flatten JSON\n",
    "\n",
    "    # filter columns\n",
    "    filtered_columns = ['venue.name', 'venue.categories', 'venue.location.lat', 'venue.location.lng']\n",
    "    nearby_venues = nearby_venues.loc[:, filtered_columns]\n",
    "\n",
    "    # filter the category for each row\n",
    "    nearby_venues['venue.categories'] = nearby_venues.apply(get_category_type, axis=1)\n",
    "\n",
    "    # clean columns\n",
    "    list_ = []\n",
    "    nearby_venues.columns = [col.split(\".\")[-1] for col in nearby_venues.columns]\n",
    "    ab = pd.DataFrame((nearby_venues.categories.value_counts()))\n",
    "    if nearby_venues.categories.value_counts().shape[0] == 0:\n",
    "        list_.extend(['None', 0, 'None', 0, 'None', 0])\n",
    "    elif nearby_venues.categories.value_counts().shape[0] == 1:\n",
    "        list_.extend([nearby_venues.categories.value_counts().index[0], nearby_venues.categories.value_counts()[0], 'None', 0, 'None', 0])\n",
    "    elif nearby_venues.categories.value_counts().shape[0] == 2:\n",
    "        list_.extend([nearby_venues.categories.value_counts().index[0], nearby_venues.categories.value_counts()[0], nearby_venues.categories.value_counts().index[1], nearby_venues.categories.value_counts()[1], 'None', 0])\n",
    "    else:\n",
    "        list_.extend([nearby_venues.categories.value_counts().index[0], nearby_venues.categories.value_counts()[0], nearby_venues.categories.value_counts().index[1], nearby_venues.categories.value_counts()[1], nearby_venues.categories.value_counts().index[2], nearby_venues.categories.value_counts()[2]])\n",
    "    food.update({city_low.title():list_})"
   ]
  },
  {
   "cell_type": "code",
   "execution_count": null,
   "metadata": {},
   "outputs": [],
   "source": [
    "final = pd.DataFrame.from_dict(food, orient = 'index', columns = ['1st place','№','2nd place','№','3rd place','№'])\n",
    "final.index.name = 'Сity'\n",
    "print(final['1st place'].unique())\n",
    "final.head()"
   ]
  },
  {
   "cell_type": "markdown",
   "metadata": {},
   "source": [
    "***\n",
    "*Code for map with colored markers on cities. Every color means the most popular type of food establishment in this city. Map is fully interactive, all markers of every color can be visible or hidden.  \n",
    "Note: a large void about north-east of Russia is not a code error, it's just that there aren't many cities there. This is Siberia.*\n",
    "***"
   ]
  },
  {
   "cell_type": "code",
   "execution_count": null,
   "metadata": {},
   "outputs": [],
   "source": [
    "latitude = 60\n",
    "longitude = 100\n",
    "map_russia = folium.Map(location=[latitude, longitude], tiles='Stamen Terrain', zoom_start=3)\n",
    "colormap = []\n",
    "\n",
    "# add markers to map\n",
    "for i in range(len(final['1st place'].unique())):\n",
    "    lgd_txt = '<span style=\"color: {col};\">{txt}</span>'\n",
    "    clr = '#%06X' % randint(0, 0xFFFFFF)\n",
    "    feature[i] = folium.FeatureGroup(name = lgd_txt.format(txt = final['1st place'].unique()[i], col = clr))\n",
    "    colormap.append(clr)\n",
    "    for j in range(len(final['1st place'])):\n",
    "        if final['1st place'][j] == final['1st place'].unique()[i]:\n",
    "            for lat, lng, label in zip(df.Latitude[df.City == final.index[j]], df.Longitude[df.City == final.index[j]], df.City[df.City == final.index[j]]):\n",
    "                label = folium.Popup(label, parse_html=True)\n",
    "                folium.CircleMarker(\n",
    "                    [lat, lng],\n",
    "                    radius=5,\n",
    "                    popup=label,\n",
    "                    color=clr,\n",
    "                    fill=True,\n",
    "                    fill_color=clr,\n",
    "                    fill_opacity=0.7,\n",
    "                    parse_html=False).add_to(feature[i])\n",
    "                map_russia.add_child(feature[i])\n",
    "    feature.append(0)\n",
    "                \n",
    "map_russia.add_child(folium.map.LayerControl(collapsed= False))\n",
    "map_russia"
   ]
  }
 ],
 "metadata": {
  "kernelspec": {
   "display_name": "Python 3",
   "language": "python",
   "name": "python3"
  },
  "language_info": {
   "codemirror_mode": {
    "name": "ipython",
    "version": 3
   },
   "file_extension": ".py",
   "mimetype": "text/x-python",
   "name": "python",
   "nbconvert_exporter": "python",
   "pygments_lexer": "ipython3",
   "version": "3.6.5"
  }
 },
 "nbformat": 4,
 "nbformat_minor": 2
}
